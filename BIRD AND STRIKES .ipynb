{
 "cells": [
  {
   "cell_type": "code",
   "execution_count": null,
   "id": "5db2318f",
   "metadata": {},
   "outputs": [],
   "source": [
    "# Step 1: Import Libraries\n",
    "import pandas as pd\n",
    "import matplotlib.pyplot as plt\n",
    "import seaborn as sns"
   ]
  },
  {
   "cell_type": "code",
   "execution_count": null,
   "id": "a935fc93",
   "metadata": {},
   "outputs": [],
   "source": [
    "# Step 2: Load the Dataset\n",
    "# Replace this with the path to your dataset\n",
    "data = pd.read_csv('bird_strike_data.csv')\n"
   ]
  },
  {
   "cell_type": "code",
   "execution_count": null,
   "id": "46391a9b",
   "metadata": {},
   "outputs": [],
   "source": [
    "# Step 3: Preprocess the Data\n",
    "# Convert the 'date' column to datetime format\n",
    "data['date'] = pd.to_datetime(data['date'])"
   ]
  },
  {
   "cell_type": "code",
   "execution_count": null,
   "id": "23df3818",
   "metadata": {},
   "outputs": [],
   "source": [
    "\n",
    "# Filter data for the years 2000 and 2001\n",
    "data_filtered = data[(data['date'].dt.year >= 2000) & (data['date'].dt.year <= 2001)]\n"
   ]
  },
  {
   "cell_type": "code",
   "execution_count": null,
   "id": "56f3aaf1",
   "metadata": {},
   "outputs": [],
   "source": [
    "# Step 4: Visualize the Data\n",
    "# Set up the plotting style\n",
    "sns.set(style=\"whitegrid\")\n"
   ]
  },
  {
   "cell_type": "code",
   "execution_count": null,
   "id": "246d1e58",
   "metadata": {},
   "outputs": [],
   "source": [
    "# Create a count of strikes by month\n",
    "data_filtered['month'] = data_filtered['date'].dt.to_period('M')\n",
    "monthly_strikes = data_filtered.groupby('month').size()\n"
   ]
  },
  {
   "cell_type": "code",
   "execution_count": null,
   "id": "b7068d56",
   "metadata": {},
   "outputs": [],
   "source": [
    "# Plotting\n",
    "plt.figure(figsize=(12, 6))\n",
    "monthly_strikes.plot(kind='bar', color='lightblue')\n",
    "plt.title('Monthly Bird Strikes in 2000-2001')\n",
    "plt.xlabel('Month')\n",
    "plt.ylabel('Number of Strikes')\n",
    "plt.xticks(rotation=45)\n",
    "plt.grid(axis='y')\n",
    "plt.tight_layout()"
   ]
  },
  {
   "cell_type": "code",
   "execution_count": null,
   "id": "d81d3587",
   "metadata": {},
   "outputs": [],
   "source": [
    "# Show the plot\n",
    "plt.show()"
   ]
  }
 ],
 "metadata": {
  "kernelspec": {
   "display_name": "Python 3 (ipykernel)",
   "language": "python",
   "name": "python3"
  },
  "language_info": {
   "codemirror_mode": {
    "name": "ipython",
    "version": 3
   },
   "file_extension": ".py",
   "mimetype": "text/x-python",
   "name": "python",
   "nbconvert_exporter": "python",
   "pygments_lexer": "ipython3",
   "version": "3.10.9"
  }
 },
 "nbformat": 4,
 "nbformat_minor": 5
}
